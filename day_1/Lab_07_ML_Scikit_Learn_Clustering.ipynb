{
 "cells": [
  {
   "cell_type": "markdown",
   "metadata": {},
   "source": [
    "# Clustering\n",
    "\n",
    "Clustering is an unsupervised learning technique useful to find similarity amongst data."
   ]
  },
  {
   "cell_type": "code",
   "execution_count": null,
   "metadata": {},
   "outputs": [],
   "source": [
    "import numpy as np\n",
    "import pandas as pd\n",
    "import matplotlib.pyplot as plt\n",
    "%matplotlib inline"
   ]
  },
  {
   "cell_type": "markdown",
   "metadata": {},
   "source": [
    "## Load and plot data"
   ]
  },
  {
   "cell_type": "code",
   "execution_count": null,
   "metadata": {},
   "outputs": [],
   "source": [
    "df = pd.read_csv('../data/iris.csv')"
   ]
  },
  {
   "cell_type": "code",
   "execution_count": null,
   "metadata": {},
   "outputs": [],
   "source": [
    "df.head()"
   ]
  },
  {
   "cell_type": "code",
   "execution_count": null,
   "metadata": {},
   "outputs": [],
   "source": [
    "import seaborn as sns"
   ]
  },
  {
   "cell_type": "code",
   "execution_count": null,
   "metadata": {},
   "outputs": [],
   "source": [
    "sns.pairplot(df, hue='species');"
   ]
  },
  {
   "cell_type": "markdown",
   "metadata": {},
   "source": [
    "## Encode labels"
   ]
  },
  {
   "cell_type": "code",
   "execution_count": null,
   "metadata": {},
   "outputs": [],
   "source": [
    "df.species.unique()"
   ]
  },
  {
   "cell_type": "code",
   "execution_count": null,
   "metadata": {},
   "outputs": [],
   "source": [
    "df['target_n'] = df['species'].map({'setosa':0, 'versicolor':1, 'virginica':2})"
   ]
  },
  {
   "cell_type": "markdown",
   "metadata": {},
   "source": [
    "## Kmeans clustering"
   ]
  },
  {
   "cell_type": "code",
   "execution_count": null,
   "metadata": {},
   "outputs": [],
   "source": [
    "from sklearn.cluster import KMeans\n",
    "\n",
    "X = df[['sepal_length','sepal_width','petal_length','petal_width']]\n",
    "km = KMeans(3)\n",
    "km.fit(X)"
   ]
  },
  {
   "cell_type": "code",
   "execution_count": null,
   "metadata": {},
   "outputs": [],
   "source": [
    "centers = km.cluster_centers_\n",
    "centers"
   ]
  },
  {
   "cell_type": "code",
   "execution_count": null,
   "metadata": {},
   "outputs": [],
   "source": [
    "plt.figure(figsize = (14,6))\n",
    "plt.subplot(121)\n",
    "plt.scatter(df.sepal_length, df.petal_length, c=df['target_n'])\n",
    "plt.xlabel('Sepal Length (cm)')\n",
    "plt.ylabel('Petal length (cm)')\n",
    "plt.title('True Labels')\n",
    "\n",
    "plt.subplot(122)\n",
    "plt.scatter(df.sepal_length, df.petal_length, c=km.labels_)\n",
    "plt.scatter(centers[:,0], centers[:,2], marker='o', c='r', s=100)\n",
    "plt.xlabel('Sepal Length (cm)')\n",
    "plt.ylabel('Petal length (cm)')\n",
    "plt.title('K-Means Clusters');"
   ]
  },
  {
   "cell_type": "markdown",
   "metadata": {},
   "source": [
    "### Exercise 1\n",
    "- discuss with your pair:\n",
    "    - why do cluster centers have 4 coordinates?\n",
    "    - do the colors in the two plots coincide? Why?\n",
    "- change the number of clusters using the n_clusters parameter. What happens?\n",
    "- change the initialization parameters of KMeans to 'random'. What happens?\n",
    "- run the clustering multiple times, do the centroid positions change?"
   ]
  },
  {
   "cell_type": "code",
   "execution_count": null,
   "metadata": {},
   "outputs": [],
   "source": []
  },
  {
   "cell_type": "markdown",
   "metadata": {},
   "source": [
    "### Exercise 2\n",
    "- calculate silhouette_score for different values of k. You will have to extract the labels from km at different values of k\n",
    "- plot the silhouette score as a function of k for k between 2 and 10\n",
    "- discuss with your pair:\n",
    "    - what value of k gives the highest silhouette score?\n",
    "    - did you expect that result?"
   ]
  },
  {
   "cell_type": "code",
   "execution_count": null,
   "metadata": {
    "collapsed": true
   },
   "outputs": [],
   "source": []
  },
  {
   "cell_type": "markdown",
   "metadata": {},
   "source": [
    "### Exercise 3\n",
    "\n",
    "Try clustering with another method of the ones you find here: http://scikit-learn.org/stable/auto_examples/cluster/plot_cluster_comparison.html\n"
   ]
  },
  {
   "cell_type": "code",
   "execution_count": null,
   "metadata": {
    "collapsed": true
   },
   "outputs": [],
   "source": []
  },
  {
   "cell_type": "markdown",
   "metadata": {},
   "source": [
    "### Exercise 4\n",
    "\n",
    "In the data folder you can find two more datasets ready for clustering:\n",
    "\n",
    "- `../data/Wholesale customers data.csv`\n",
    "- `../data/Absenteeism_at_work.csv`\n",
    "\n",
    "\n",
    "Choose one and repeat the following steps:\n",
    "\n",
    "1. Load the dataset\n",
    "- Inspect it with `.read()` and `.info()`\n",
    "- decide which features you are going to use for clustering (hint: categorical features are tricky, you may want to ignore them for now)\n",
    "- rescale the features\n",
    "- train K-Means and find the optimal value of K using the silhouette coefficient\n",
    "- does the dataset cluster well?\n",
    "- train DBSSCAN and check the number of clusters found\n",
    "- inspect a couple of clusters and see if you can describe the members"
   ]
  },
  {
   "cell_type": "code",
   "execution_count": null,
   "metadata": {
    "collapsed": true
   },
   "outputs": [],
   "source": []
  }
 ],
 "metadata": {
  "anaconda-cloud": {},
  "kernelspec": {
   "display_name": "Python 3 (ipykernel)",
   "language": "python",
   "name": "python3"
  },
  "language_info": {
   "codemirror_mode": {
    "name": "ipython",
    "version": 3
   },
   "file_extension": ".py",
   "mimetype": "text/x-python",
   "name": "python",
   "nbconvert_exporter": "python",
   "pygments_lexer": "ipython3",
   "version": "3.7.13"
  }
 },
 "nbformat": 4,
 "nbformat_minor": 2
}
